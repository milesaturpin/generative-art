{
 "cells": [
  {
   "cell_type": "code",
   "execution_count": 3,
   "metadata": {},
   "outputs": [],
   "source": [
    "import markovify\n",
    "import re"
   ]
  },
  {
   "cell_type": "code",
   "execution_count": 92,
   "metadata": {},
   "outputs": [],
   "source": [
    "def parse_text(filepath):\n",
    "    # Get raw text as string.\n",
    "    with open(filepath) as f:\n",
    "        text = f.read()\n",
    "\n",
    "    text = re.sub('\\\\n', ' ', text)\n",
    "    text = re.sub('\\\\x0c', ' ', text)\n",
    "    return text\n",
    "\n",
    "def print_sentences(model, n=5):\n",
    "    # Print five randomly-generated sentences\n",
    "    for i in range(n):\n",
    "        print(model.make_sentence())\n",
    "        print('\\n')\n",
    "        \n",
    "def print_short_sentences(model, n=3, length=280):\n",
    "    # Print three randomly-generated sentences of no more than 280 characters\n",
    "    for i in range(n):\n",
    "        print(model.make_short_sentence(length))\n",
    "        print('\\n')"
   ]
  },
  {
   "cell_type": "code",
   "execution_count": null,
   "metadata": {},
   "outputs": [],
   "source": [
    "hoff = parse_text(\"hoff.txt\")\n",
    "hoff_model = markovify.Text(hoff, state_size=1)"
   ]
  },
  {
   "cell_type": "code",
   "execution_count": 95,
   "metadata": {},
   "outputs": [
    {
     "name": "stdout",
     "output_type": "stream",
     "text": [
      "A multivariate normal full conditional distributions seem strange or to the parameter.\n",
      "\n",
      "\n",
      "The multivariate normal.\n",
      "\n",
      "\n",
      "Suppose y based on random variable Y in their Bayes estimators of this feature.\n",
      "\n",
      "\n",
      "A is how quickly get shrunk the posterior distribution is recorded as much, i.e. none of δ 2 . . . . . . . . . . . 170 10 15 subjects may not actually know Yi = 10.75 and PDEGi is a particular town in the labels convey no association with the OLS estimates of a sampling and the 22-year-olds assigned to this in Statistics, DOI 10.1007/978-0-387-92407-6 Springer Science+Business Media, LLC 2009 196 11 Linear and variances and the joint 240 Exercises Interpret the previous years.\n",
      "\n",
      "\n",
      "To study is the total of subvectors of the observed dataset.\n",
      "\n",
      "\n"
     ]
    }
   ],
   "source": [
    "print_sentences(hoff_model, n=5)"
   ]
  },
  {
   "cell_type": "markdown",
   "metadata": {},
   "source": [
    "### bible"
   ]
  },
  {
   "cell_type": "code",
   "execution_count": 149,
   "metadata": {},
   "outputs": [],
   "source": [
    "bible = parse_text(\"bible.txt\")\n",
    "bible_model = markovify.Text(bible, state_size=2)"
   ]
  },
  {
   "cell_type": "code",
   "execution_count": 166,
   "metadata": {},
   "outputs": [
    {
     "data": {
      "text/plain": [
       "4352286"
      ]
     },
     "execution_count": 166,
     "metadata": {},
     "output_type": "execute_result"
    }
   ],
   "source": [
    "len(bible)"
   ]
  },
  {
   "cell_type": "code",
   "execution_count": 112,
   "metadata": {},
   "outputs": [
    {
     "name": "stdout",
     "output_type": "stream",
     "text": [
      "24:18 And Moses went up to it: they shall remain in it.\n",
      "\n",
      "\n",
      "Why have ye not carnal?\n",
      "\n",
      "\n",
      "42:31 And we took for him after Absalom.\n",
      "\n",
      "\n",
      "75:4 I said indeed that this city be laid upon thee suddenly, which thou hast done foolishly in so doing.\n",
      "\n",
      "\n",
      "11:25 Thrice was I am Jesus whom thou persecutest.\n",
      "\n",
      "\n"
     ]
    }
   ],
   "source": [
    "print_sentences(bible_model, n=5)"
   ]
  },
  {
   "cell_type": "markdown",
   "metadata": {},
   "source": [
    "### murphy"
   ]
  },
  {
   "cell_type": "code",
   "execution_count": 148,
   "metadata": {},
   "outputs": [],
   "source": [
    "murphy = parse_text(\"murphy.txt\")\n",
    "murphy_model = markovify.Text(murphy, state_size=2)"
   ]
  },
  {
   "cell_type": "code",
   "execution_count": 167,
   "metadata": {},
   "outputs": [
    {
     "data": {
      "text/plain": [
       "2433113"
      ]
     },
     "execution_count": 167,
     "metadata": {},
     "output_type": "execute_result"
    }
   ],
   "source": [
    "len(murphy)"
   ]
  },
  {
   "cell_type": "code",
   "execution_count": 110,
   "metadata": {},
   "outputs": [
    {
     "name": "stdout",
     "output_type": "stream",
     "text": [
      "We can now use the change of measure zero, whereas the mean level of symbolic or atomic parts.\n",
      "\n",
      "\n",
      "2.2.2 Fundamental rules In this game, nature picks a state to any problem with using Gibbs sampling to a speciﬁc image using a technique that is commonly used probabilistic models can be thought of as two microphones, which are a bit tricky in practice.\n",
      "\n",
      "\n",
      "However, the dots represent noisy observations.\n",
      "\n",
      "\n",
      "We also see that layer 2 errors back through the data.\n",
      "\n",
      "\n",
      "If we want to ﬁt more complex models, the error by as much.\n",
      "\n",
      "\n"
     ]
    }
   ],
   "source": [
    "print_sentences(murphy_model, n=5)"
   ]
  },
  {
   "cell_type": "markdown",
   "metadata": {},
   "source": [
    "### harris"
   ]
  },
  {
   "cell_type": "code",
   "execution_count": 99,
   "metadata": {},
   "outputs": [],
   "source": [
    "harris = parse_text(\"harris.txt\")\n",
    "harris_model = markovify.Text(harris, state_size=1)"
   ]
  },
  {
   "cell_type": "code",
   "execution_count": 99,
   "metadata": {},
   "outputs": [
    {
     "name": "stdout",
     "output_type": "stream",
     "text": [
      "Moral History of our enemies in the excesses of infidels occupying Baghdad simply be desired.\n",
      "\n",
      "\n",
      "This spirit will be broken her part, glared at it is being elicited under the start.\n",
      "\n",
      "\n",
      "Muslim and exposing the following sources that we need we see others and decent man without saying that man, on spiritual teachings agree about the modern democracy and faith—wherein otherwise have become available to the world is, at worst, it is lucid and women.\n",
      "\n",
      "\n",
      "Hume, D. R., and the Jews alike— as in Palestine they are now find that there is not very same position to rush straight to appeal to happiness and clothing.\n",
      "\n",
      "\n",
      "We cannot survive it.\n",
      "\n",
      "\n"
     ]
    }
   ],
   "source": [
    "print_sentences(harris_model, n=5)"
   ]
  },
  {
   "cell_type": "markdown",
   "metadata": {},
   "source": [
    "### hitchens"
   ]
  },
  {
   "cell_type": "code",
   "execution_count": 88,
   "metadata": {},
   "outputs": [
    {
     "name": "stdout",
     "output_type": "stream",
     "text": [
      "This seemed in which are two Centuries later Christian fanatics, even if god and news cycle that day, to know!\n",
      "\n",
      "\n",
      "The best mammal either.\n",
      "\n",
      "\n",
      "It is religion.\n",
      "\n",
      "\n",
      "This Enlightenment will was going to irritate me.\n",
      "\n",
      "\n",
      "He killed twenty-seven worshippers and contributors of thousands of archaeology and use his country he could possess nothing much an action should have disgraced the Pentateuch to keep their hardest to show solidarity at some fifty-seven years of anything of any Augustan census by the subcontinent that severed head of Christ had been a herd of Gaza.\n",
      "\n",
      "\n"
     ]
    }
   ],
   "source": [
    "hitchens = parse_text(\"hitchens.txt\")\n",
    "hitchens_model = markovify.Text(hitchens, state_size=1)\n",
    "print_sentences(hitchens_model, n=5)"
   ]
  },
  {
   "cell_type": "code",
   "execution_count": 133,
   "metadata": {},
   "outputs": [],
   "source": [
    "russell = parse_text('russell_norvig.txt')\n",
    "russell_model = markovify.Text(russell, state_size=1)"
   ]
  },
  {
   "cell_type": "code",
   "execution_count": 123,
   "metadata": {},
   "outputs": [
    {
     "name": "stdout",
     "output_type": "stream",
     "text": [
      "That is, it integrates the original KB is true.\n",
      "\n",
      "\n",
      "The execution mechanism was a solution, but to get a gold watch and she her beautiful long hair.\n",
      "\n",
      "\n",
      "In this section, we outline a comprehensive theory of the search algorithms that require even less development and perform just as Modus Ponens.\n",
      "\n",
      "\n",
      "The ideal mapping and an important aspect of belief networks, all of AI have at most one point very clear: for a subjective opinion of how to use an implicit functional representation, as we will leave off the agenda, and control equations.\n",
      "\n",
      "\n",
      "Similarly, even when the agent has to go straight on.\n",
      "\n",
      "\n"
     ]
    }
   ],
   "source": [
    "print_sentences(russell_model, n=5)"
   ]
  },
  {
   "cell_type": "markdown",
   "metadata": {},
   "source": [
    "### Combine models"
   ]
  },
  {
   "cell_type": "code",
   "execution_count": 161,
   "metadata": {},
   "outputs": [],
   "source": [
    "combo_model = markovify.combine([murphy_model, bible_model], [4, 1])"
   ]
  },
  {
   "cell_type": "code",
   "execution_count": 174,
   "metadata": {},
   "outputs": [
    {
     "name": "stdout",
     "output_type": "stream",
     "text": [
      "Our uncertainty associated with \u000e \u0007 \u0006 \u0005 \u0006 Figure 27.25 Illustration of projected gradient descent.\n",
      "\n",
      "\n",
      "And next to him in a mixture of Student distributions It is possible to optimize stochastic objectives such as a king over Jordan.\n",
      "\n",
      "\n",
      "This neural network that is used.\n",
      "\n",
      "\n",
      "We can then run for a difference in marginal likelihoods between different books and papers.\n",
      "\n",
      "\n",
      "11:34 Of all clean fowls ye may learn to predict a different convergent version of BP.\n",
      "\n",
      "\n",
      "25:28 And thou shalt work, but I understood not; things too high a degree 2 polynomial, due to Noam Chomsky, is “colourless green ideas sleep furiously”. We would like estimators to have.\n",
      "\n",
      "\n",
      "24.2.2 Example: Gibbs sampling for the press, there were men that stood by, and heard an angel of God for nought? they that found favour.\n",
      "\n",
      "\n",
      "ACM Conf. on Machine Learning.\n",
      "\n",
      "\n",
      "12:24 The king of Syria, by their armies.\n",
      "\n",
      "\n",
      "Too many things300 have to specify edge orientations, and are punished.\n",
      "\n",
      "\n"
     ]
    }
   ],
   "source": [
    "print_short_sentences(combo_model, n=10, length=200)"
   ]
  },
  {
   "cell_type": "code",
   "execution_count": 124,
   "metadata": {},
   "outputs": [],
   "source": [
    "combo_model2 = markovify.combine([russell_model, bible_model], [6, 1])"
   ]
  },
  {
   "cell_type": "code",
   "execution_count": 126,
   "metadata": {},
   "outputs": [
    {
     "name": "stdout",
     "output_type": "stream",
     "text": [
      "9:14 How much is a witness of that sentence under that rise up and buildeth temples; and Judah saw them, he said unto Gideon, The people that were with them, behold, there came a man of God, command this stone that smote the firstborn of the house which I have gained this harm and loss.\n",
      "\n",
      "\n",
      "Suppose the alarm works unless it can move in a partial plan is now viewed as a whole family of actions, but has no influence on Y. 3.\n",
      "\n",
      "\n",
      "I write unto you, saying, Behold, there is a prophet, or that the dot touches the table-top.\n",
      "\n",
      "\n",
      "A note on the other side of the simplifications that are not stored separately in the time is short: it remaineth, that both tires have holes, then neither the square where the proof of the high places and groves in every domain.\n",
      "\n",
      "\n",
      "4:9 By the definition of the design of the Levites, the ministers of the 8-puzzle.\n",
      "\n",
      "\n",
      "21:8 In his days in wealth, and in the version for which partial solutions are at right angles to the saints according to the law, which married his daughters, And where is thy portion in the literature, and are required just to game playing and with all the way of the costs of the picture of cumulative learning process uses, and need not be forgotten in the vat can be no way I can summarize is to describe parts that would otherwise be taken, and not build up a bunch of bananas without bruising them and their PAGE descriptions.\n",
      "\n",
      "\n",
      "Another difficult problem to be very difficult unless a large joint probability distribution for just the \\ a \\ an \\ ...\n",
      "\n",
      "\n",
      "Exercise 8.6 asks you to quickly replan is the first type of Horn clause sentences are all gone before we have three possible states of the host before me are thieves and robbers: but the smallest possible search space?\n",
      "\n",
      "\n",
      "In this was the only two prized possessions; he a gold brick is covered in the various concepts?\n",
      "\n",
      "\n",
      "The branches leading from one position to another.\n",
      "\n",
      "\n",
      "On the Possibility of Achieving Intelligent Behavior 827 is far from our laziness and ignorance in operation: it would be chess champion, and an important aspect of a carcinogenic substance to allow an agent need not waste time trying conversions during the search.\n",
      "\n",
      "\n",
      "If the next section, we examine methods for uncertain reasoning In addition to interpreting and disambiguating a single super-robot.\n",
      "\n",
      "\n",
      "The General Epistle of Paul the Apostle to Titus 1:1 Paul, an apostle of Jesus Christ; 5:21 Submitting yourselves one to explain how to actually construct a belief network for assessing prediction quality after the name of it cometh from thee: 23:14 For he hath regarded the low country, and of discovering the foundation of the others.\n",
      "\n",
      "\n",
      "7:3 His brethren therefore said unto them, Verily, verily, I say unto them, Shall we continue in this chapter: a. It is too high for the LORD hath given it unto me, Son of God.\n",
      "\n",
      "\n",
      "To be concrete about this, suppose that we can describe a knowledge-based system for extracting information from text.\n",
      "\n",
      "\n",
      "For a dream that thou shalt take of the LORD God of the shallowest optimal solution cost, then the cost of siting the airport siting problem as an equivalence class of cases.\n",
      "\n",
      "\n",
      "Each constant symbol for each problem, with varying levels of a set of all the observed 590 Chapter 19.\n",
      "\n",
      "\n",
      "24:2 And Abraham lifted up his servant Zimri, captain of the south shall come upon you, and fill the appetite of the people, saying, Arm some of which rules out animals, and the seven churches: and the charge of the prison house.\n",
      "\n",
      "\n",
      "3:18 I counsel that all the propositions in the same density.\n",
      "\n",
      "\n",
      "Comment on the hands of Zebah and Zalmunna, and discomfited them.\n",
      "\n",
      "\n",
      "11:42 And the LORD is the first time, or just when the heaven of heavens is the process of answering this query, logical reasoning systems of the fame thereof: our hands establish thou it.\n",
      "\n",
      "\n",
      "An active temporal-difference learning agent that is superimposed over the sea, Peace, be still.\n",
      "\n",
      "\n",
      "As the bird that wandereth out of animal tissue.\n",
      "\n",
      "\n",
      "The results we have the same shall reign over Israel, 9:23 Then God turned, and went out.\n",
      "\n",
      "\n",
      "This remains a difficult task.\n",
      "\n",
      "\n",
      "We have seen why it thought that he would come up with a graving tool, after he begat Cainan eight hundred years, and begat Nahor: 11:23 And he judged Israel twenty years.\n",
      "\n",
      "\n",
      "0 Operators: from each category of categories.\n",
      "\n",
      "\n",
      "This is the name of the union of two variables using a limited number of parents, a node's conditional probability table associated with a writer's inkhorn by his own house.\n",
      "\n",
      "\n",
      "Navigation and Motion Planning Figure 25.22 A series of rollers lined up along the paths of length d.\n",
      "\n",
      "\n",
      "Predictions are then subjected to the example are therefore not of the first law.\n",
      "\n",
      "\n",
      "12:3 But he stood over the possible interpretations is the bread which cometh down out of her, and shall see the scene will be needed.\n",
      "\n",
      "\n",
      "We will consider a goal fails and it shall not be too dismayed.\n",
      "\n",
      "\n",
      "To date, no default reasoning system and its speed relative to an agent that uses policy iteration, we can prune the search space: if you have to do semantic disambiguation.\n",
      "\n",
      "\n",
      "Most people would question whether it be not expelled from him.\n",
      "\n",
      "\n",
      "2:12 And Elisha answered, The LORD preserveth the simple: I was afraid: O LORD, and depart not from it, that Jeroboam returned out of this chapter, we are interested in.\n",
      "\n",
      "\n",
      "Suppose that an intelligent agent.4 The agent must start with a set of cities the agent to conclude the existence of complete descriptions of problems by systematically considering the Turing award, the highest activation Section 19.5.\n",
      "\n",
      "\n",
      "6:8 He hath set to choose from.\n",
      "\n",
      "\n",
      "Problems like these, providing a depth or orientation discontinuity.\n",
      "\n",
      "\n",
      "16:6 And he said, Because they said, tempting him, and obey his voice, and lifted up Joseph out of the kingdoms; neither shall he set the battle in array? am not the agent programs for powerful computers in the day?\n",
      "\n",
      "\n",
      "The two Go actions to construct belief networks are less impressive.\n",
      "\n",
      "\n"
     ]
    }
   ],
   "source": [
    "print_sentences(combo_model2, n=40)"
   ]
  }
 ],
 "metadata": {
  "kernelspec": {
   "display_name": "Python 3",
   "language": "python",
   "name": "python3"
  },
  "language_info": {
   "codemirror_mode": {
    "name": "ipython",
    "version": 3
   },
   "file_extension": ".py",
   "mimetype": "text/x-python",
   "name": "python",
   "nbconvert_exporter": "python",
   "pygments_lexer": "ipython3",
   "version": "3.6.6"
  }
 },
 "nbformat": 4,
 "nbformat_minor": 2
}
